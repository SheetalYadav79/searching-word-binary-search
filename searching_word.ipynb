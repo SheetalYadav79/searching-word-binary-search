{
 "cells": [
  {
   "cell_type": "code",
   "execution_count": 9,
   "id": "f98a5079-1cab-412f-8358-797c2aa88d34",
   "metadata": {},
   "outputs": [
    {
     "name": "stdin",
     "output_type": "stream",
     "text": [
      "Enter the filename:  daa.txt\n",
      "Enter the word to search for:  previous\n"
     ]
    },
    {
     "name": "stdout",
     "output_type": "stream",
     "text": [
      "Word 'previous' not found in the file.\n"
     ]
    }
   ],
   "source": [
    "#searching word from a file\n",
    "\n",
    "def binary_search(words, target):\n",
    "    left, right = 0, len(words) - 1\n",
    "\n",
    "    while left <= right:\n",
    "        mid = (left + right) // 2\n",
    "        if words[mid] == target:\n",
    "            return mid\n",
    "        elif words[mid] < target:\n",
    "            left = mid + 1\n",
    "        else:\n",
    "            right = mid - 1\n",
    "\n",
    "    return -1  # Element not found\n",
    "\n",
    "def highlight_word(content, word):\n",
    "    highlighted_content = content.replace(word, f'__**{word}**__')\n",
    "    return highlighted_content\n",
    "\n",
    "def main():\n",
    "    # Read words from a file\n",
    "    filename = input(\"Enter the filename: \")\n",
    "    with open(\"daa.txt\", 'r') as file:\n",
    "        content = file.read()\n",
    "    \n",
    "    # Split content into words and sort them\n",
    "    words = sorted(content.split())\n",
    "    \n",
    "    # Input: Word to search\n",
    "    target = input(\"Enter the word to search for: \")\n",
    "    \n",
    "    # Perform binary search\n",
    "    index = binary_search(words, target)\n",
    "    \n",
    "    # Highlight the word in the original content\n",
    "    if index != -1:\n",
    "        highlighted_content = highlight_word(content, target)\n",
    "        print(f\"Word '{target}' found at index: {index}\")\n",
    "        print(\"Highlighted content:\")\n",
    "        print(highlighted_content)\n",
    "    else:\n",
    "        print(f\"Word '{target}' not found in the file.\")\n",
    "\n",
    "main()\n"
   ]
  },
  {
   "cell_type": "code",
   "execution_count": null,
   "id": "7b7e8a1e-afe5-424c-b811-f5a74d7eeb35",
   "metadata": {},
   "outputs": [],
   "source": []
  }
 ],
 "metadata": {
  "kernelspec": {
   "display_name": "Python 3 (ipykernel)",
   "language": "python",
   "name": "python3"
  },
  "language_info": {
   "codemirror_mode": {
    "name": "ipython",
    "version": 3
   },
   "file_extension": ".py",
   "mimetype": "text/x-python",
   "name": "python",
   "nbconvert_exporter": "python",
   "pygments_lexer": "ipython3",
   "version": "3.12.4"
  }
 },
 "nbformat": 4,
 "nbformat_minor": 5
}
